{
 "cells": [
  {
   "cell_type": "markdown",
   "metadata": {},
   "source": [
    "#### CELL-1 코드리뷰 \n",
    "\n",
    "- <strong>NAME = ''</strong> -> 가져올 모델의 이름을 입력합니다 *전 과정에서 지정했던 이름으로 입력합니다\n"
   ]
  },
  {
   "cell_type": "code",
   "execution_count": 1,
   "metadata": {},
   "outputs": [],
   "source": [
    "# Set Hyper Parameters\n",
    "NAME = '' #모델의 이름을 입력합니다 예시: '12'"
   ]
  },
  {
   "cell_type": "markdown",
   "metadata": {},
   "source": [
    "<br></br>"
   ]
  },
  {
   "cell_type": "markdown",
   "metadata": {},
   "source": [
    "#### CELL -2 코드리뷰\n",
    "\n",
    "- <strong>import jajucha2</strong> -> 자주차 라이브러리를 가져옵니다\n",
    "- <strong>import torch</strong> -> pytorch 라이브러리를 가져옵니다\n",
    "- <strong>device = torch.device('cuda')</strong> gpu 객체를 가져옵니다\n",
    "- <strong>print(device)</strong> 가져온 gpu 객체를 프린트 합니다\n"
   ]
  },
  {
   "cell_type": "code",
   "execution_count": null,
   "metadata": {},
   "outputs": [],
   "source": [
    "import jajucha2\n",
    "import torch\n",
    "\n",
    "device = torch.device('cuda')\n",
    "print(device)"
   ]
  },
  {
   "cell_type": "markdown",
   "metadata": {},
   "source": [
    "<br></br>"
   ]
  },
  {
   "cell_type": "markdown",
   "metadata": {},
   "source": [
    "#### CELL -3 코드리뷰\n",
    "\n",
    "- <strong>net = jajucha2.ai.get_model(NAME)</strong> -> 학습시킨 모델을 가져옵니다\n",
    "- <strong>net.to(device)</strong> -> 모델의 자주차의 GPU로 로딩 합니다\n",
    "- <strong>net.eval()</strong> 모델을 학습모드가 아닌 출력모드로 설정합니다\n"
   ]
  },
  {
   "cell_type": "code",
   "execution_count": null,
   "metadata": {},
   "outputs": [],
   "source": [
    "net = jajucha2.ai.get_model(NAME)\n",
    "net.to(device)\n",
    "net.eval()"
   ]
  },
  {
   "cell_type": "markdown",
   "metadata": {},
   "source": [
    "<br></br>"
   ]
  },
  {
   "cell_type": "markdown",
   "metadata": {},
   "source": [
    "#### CELL -4 코드리뷰\n",
    "\n",
    "- <strong>inputshape = jajucha2.ai.get_model_input(NAME)</strong> -> 모델에 필요한 입력 텐서의 모양을 출력 합니다 \n"
   ]
  },
  {
   "cell_type": "code",
   "execution_count": null,
   "metadata": {},
   "outputs": [],
   "source": [
    "inputshape = jajucha2.ai.get_model_input(NAME)"
   ]
  },
  {
   "cell_type": "markdown",
   "metadata": {},
   "source": [
    "<br></br>"
   ]
  },
  {
   "cell_type": "markdown",
   "metadata": {},
   "source": [
    "#### CELL -5 코드리뷰\n",
    "\n",
    "- <strong>gpu_tensor = torch.rand(1, 3, 224, 224, device='cuda')</strong> -> 모델에 필요한 입력 텐서의 모양을 임의로 생성합니다 \n",
    "- <strong>print(net(gpu_tensor))</strong> -> 모델에 텐서를 넣고 출력을 진행합니다"
   ]
  },
  {
   "cell_type": "code",
   "execution_count": 5,
   "metadata": {},
   "outputs": [],
   "source": [
    "gpu_tensor = torch.rand(1, 3, 224, 224, device='cuda')\n",
    "print(net(gpu_tensor))"
   ]
  }
 ],
 "metadata": {
  "kernelspec": {
   "display_name": "Python 3 (ipykernel)",
   "language": "python",
   "name": "python3"
  },
  "language_info": {
   "codemirror_mode": {
    "name": "ipython",
    "version": 3
   },
   "file_extension": ".py",
   "mimetype": "text/x-python",
   "name": "python",
   "nbconvert_exporter": "python",
   "pygments_lexer": "ipython3",
   "version": "3.8.10"
  }
 },
 "nbformat": 4,
 "nbformat_minor": 4
}
